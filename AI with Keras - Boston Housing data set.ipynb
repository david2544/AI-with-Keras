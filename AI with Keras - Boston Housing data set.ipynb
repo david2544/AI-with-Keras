{
 "cells": [
  {
   "cell_type": "code",
   "execution_count": 1,
   "metadata": {},
   "outputs": [
    {
     "name": "stderr",
     "output_type": "stream",
     "text": [
      "C:\\Users\\coroi\\Anaconda3\\envs\\data-science\\lib\\site-packages\\h5py\\__init__.py:36: FutureWarning: Conversion of the second argument of issubdtype from `float` to `np.floating` is deprecated. In future, it will be treated as `np.float64 == np.dtype(float).type`.\n",
      "  from ._conv import register_converters as _register_converters\n",
      "Using Theano backend.\n",
      "WARNING (theano.configdefaults): g++ not available, if using conda: `conda install m2w64-toolchain`\n",
      "C:\\Users\\coroi\\Anaconda3\\envs\\data-science\\lib\\site-packages\\theano\\configdefaults.py:560: UserWarning: DeprecationWarning: there is no c++ compiler.This is deprecated and with Theano 0.11 a c++ compiler will be mandatory\n",
      "  warnings.warn(\"DeprecationWarning: there is no c++ compiler.\"\n",
      "WARNING (theano.configdefaults): g++ not detected ! Theano will be unable to execute optimized C-implementations (for both CPU and GPU) and will default to Python implementations. Performance will be severely degraded. To remove this warning, set Theano flags cxx to an empty string.\n",
      "WARNING (theano.configdefaults): install mkl with `conda install mkl-service`: No module named 'mkl'\n",
      "WARNING (theano.tensor.blas): Using NumPy C-API based implementation for BLAS functions.\n"
     ]
    }
   ],
   "source": [
    "from keras.datasets import boston_housing"
   ]
  },
  {
   "cell_type": "code",
   "execution_count": 36,
   "metadata": {},
   "outputs": [
    {
     "name": "stdout",
     "output_type": "stream",
     "text": [
      "[  1.23247   0.        8.14      0.        0.538     6.142    91.7\n",
      "   3.9769    4.      307.       21.      396.9      18.72   ]\n",
      "[-0.27224633 -0.48361547 -0.43576161 -0.25683275 -0.1652266  -0.1764426\n",
      "  0.81306188  0.1166983  -0.62624905 -0.59517003  1.14850044  0.44807713\n",
      "  0.8252202 ]\n"
     ]
    }
   ],
   "source": [
    "(train_data, train_targets), (test_data, test_targets) = boston_housing.load_data()\n",
    "\n",
    "print(train_data[0])\n",
    "\n",
    "mean = train_data.mean(axis=0)\n",
    "train_data -= mean\n",
    "std = train_data.std(axis=0)\n",
    "train_data /= std\n",
    "\n",
    "print(train_data[0])\n",
    "test_data -= mean\n",
    "test_data /= std\n",
    "\n"
   ]
  },
  {
   "cell_type": "code",
   "execution_count": 43,
   "metadata": {},
   "outputs": [],
   "source": [
    "from keras import models\n",
    "from keras import layers\n",
    "\n",
    "def build_model():\n",
    "    model = models.Sequential()\n",
    "    \n",
    "    model.add(layers.Dense(64, activation=\"relu\", input_shape=(train_data.shape[1],)))\n",
    "    model.add(layers.Dense(64,activation=\"relu\"))\n",
    "    model.add(layers.Dense(1))\n",
    "    \n",
    "    model.compile(\n",
    "        optimizer=\"rmsprop\",\n",
    "        loss=\"mse\",\n",
    "        metrics=[\"mae\"]\n",
    "    )\n",
    "    \n",
    "    return model\n"
   ]
  },
  {
   "cell_type": "code",
   "execution_count": 47,
   "metadata": {
    "scrolled": false
   },
   "outputs": [
    {
     "name": "stdout",
     "output_type": "stream",
     "text": [
      "k-fold validation # 1\n",
      "Train on 303 samples, validate on 101 samples\n",
      "Epoch 1/10\n",
      "303/303 [==============================] - 62s 206ms/step - loss: 203.8534 - mean_absolute_error: 10.5296 - val_loss: 38.5267 - val_mean_absolute_error: 4.4154\n",
      "Epoch 2/10\n",
      "303/303 [==============================] - 63s 207ms/step - loss: 30.1066 - mean_absolute_error: 3.8496 - val_loss: 21.8943 - val_mean_absolute_error: 2.9434\n",
      "Epoch 3/10\n",
      "303/303 [==============================] - 62s 206ms/step - loss: 21.4138 - mean_absolute_error: 3.1931 - val_loss: 19.2176 - val_mean_absolute_error: 2.7188\n",
      "Epoch 4/10\n",
      "303/303 [==============================] - 63s 208ms/step - loss: 17.0210 - mean_absolute_error: 2.7692 - val_loss: 13.3416 - val_mean_absolute_error: 2.3105\n",
      "Epoch 5/10\n",
      "303/303 [==============================] - 63s 207ms/step - loss: 15.2958 - mean_absolute_error: 2.6209 - val_loss: 14.5145 - val_mean_absolute_error: 2.4568\n",
      "Epoch 6/10\n",
      "303/303 [==============================] - 63s 207ms/step - loss: 14.0861 - mean_absolute_error: 2.5452 - val_loss: 12.9536 - val_mean_absolute_error: 2.2314\n",
      "Epoch 7/10\n",
      "303/303 [==============================] - 62s 206ms/step - loss: 14.1019 - mean_absolute_error: 2.4597 - val_loss: 11.5112 - val_mean_absolute_error: 2.3904\n",
      "Epoch 8/10\n",
      "303/303 [==============================] - 63s 207ms/step - loss: 12.6928 - mean_absolute_error: 2.3939 - val_loss: 10.8640 - val_mean_absolute_error: 2.2079\n",
      "Epoch 9/10\n",
      "303/303 [==============================] - 63s 208ms/step - loss: 12.3456 - mean_absolute_error: 2.3390 - val_loss: 10.4532 - val_mean_absolute_error: 2.2151\n",
      "Epoch 10/10\n",
      "303/303 [==============================] - 63s 208ms/step - loss: 11.6996 - mean_absolute_error: 2.3355 - val_loss: 11.8356 - val_mean_absolute_error: 2.5639\n",
      "k-fold validation # 2\n",
      "Train on 303 samples, validate on 101 samples\n",
      "Epoch 1/10\n",
      "303/303 [==============================] - 64s 210ms/step - loss: 218.8338 - mean_absolute_error: 11.0604 - val_loss: 31.6083 - val_mean_absolute_error: 4.1917\n",
      "Epoch 2/10\n",
      "303/303 [==============================] - 63s 208ms/step - loss: 30.0146 - mean_absolute_error: 3.5756 - val_loss: 19.6664 - val_mean_absolute_error: 3.3058\n",
      "Epoch 3/10\n",
      "303/303 [==============================] - 62s 203ms/step - loss: 21.8933 - mean_absolute_error: 2.9897 - val_loss: 17.8017 - val_mean_absolute_error: 3.1074\n",
      "Epoch 4/10\n",
      "303/303 [==============================] - 64s 211ms/step - loss: 17.5781 - mean_absolute_error: 2.7780 - val_loss: 16.2179 - val_mean_absolute_error: 2.9508\n",
      "Epoch 5/10\n",
      "303/303 [==============================] - 63s 209ms/step - loss: 15.8219 - mean_absolute_error: 2.5509 - val_loss: 14.1174 - val_mean_absolute_error: 2.7923\n",
      "Epoch 6/10\n",
      "303/303 [==============================] - 63s 209ms/step - loss: 14.5131 - mean_absolute_error: 2.4909 - val_loss: 17.5621 - val_mean_absolute_error: 3.2534\n",
      "Epoch 7/10\n",
      "303/303 [==============================] - 63s 208ms/step - loss: 13.0394 - mean_absolute_error: 2.3761 - val_loss: 13.2456 - val_mean_absolute_error: 2.7588\n",
      "Epoch 8/10\n",
      "303/303 [==============================] - 64s 213ms/step - loss: 12.4079 - mean_absolute_error: 2.3251 - val_loss: 16.5211 - val_mean_absolute_error: 3.1169\n",
      "Epoch 9/10\n",
      "303/303 [==============================] - 64s 211ms/step - loss: 12.1445 - mean_absolute_error: 2.2838 - val_loss: 15.0076 - val_mean_absolute_error: 2.9872\n",
      "Epoch 10/10\n",
      "303/303 [==============================] - 63s 208ms/step - loss: 11.8357 - mean_absolute_error: 2.2566 - val_loss: 12.0940 - val_mean_absolute_error: 2.6139\n",
      "k-fold validation # 3\n",
      "Train on 303 samples, validate on 101 samples\n",
      "Epoch 1/10\n",
      "303/303 [==============================] - 63s 208ms/step - loss: 226.0719 - mean_absolute_error: 11.2035 - val_loss: 34.2613 - val_mean_absolute_error: 3.9577\n",
      "Epoch 2/10\n",
      "303/303 [==============================] - 63s 207ms/step - loss: 27.9271 - mean_absolute_error: 3.5563 - val_loss: 20.9902 - val_mean_absolute_error: 3.1636\n",
      "Epoch 3/10\n",
      "303/303 [==============================] - 64s 210ms/step - loss: 19.2095 - mean_absolute_error: 2.9936 - val_loss: 18.4080 - val_mean_absolute_error: 2.8792\n",
      "Epoch 4/10\n",
      "303/303 [==============================] - 63s 208ms/step - loss: 15.3792 - mean_absolute_error: 2.7326 - val_loss: 18.5700 - val_mean_absolute_error: 2.8964\n",
      "Epoch 5/10\n",
      "303/303 [==============================] - 63s 209ms/step - loss: 13.4918 - mean_absolute_error: 2.5789 - val_loss: 17.5523 - val_mean_absolute_error: 2.7692\n",
      "Epoch 6/10\n",
      "303/303 [==============================] - 63s 208ms/step - loss: 12.2762 - mean_absolute_error: 2.4438 - val_loss: 15.5798 - val_mean_absolute_error: 2.6136\n",
      "Epoch 7/10\n",
      "303/303 [==============================] - 64s 211ms/step - loss: 11.1172 - mean_absolute_error: 2.3848 - val_loss: 15.1226 - val_mean_absolute_error: 2.6011\n",
      "Epoch 8/10\n",
      "303/303 [==============================] - 64s 210ms/step - loss: 10.7387 - mean_absolute_error: 2.3062 - val_loss: 15.6071 - val_mean_absolute_error: 2.7921\n",
      "Epoch 9/10\n",
      "303/303 [==============================] - 63s 209ms/step - loss: 9.6000 - mean_absolute_error: 2.1642 - val_loss: 16.3226 - val_mean_absolute_error: 2.6401\n",
      "Epoch 10/10\n",
      "303/303 [==============================] - 63s 209ms/step - loss: 8.9950 - mean_absolute_error: 2.1509 - val_loss: 15.1349 - val_mean_absolute_error: 2.6373\n",
      "k-fold validation # 4\n",
      "Train on 303 samples, validate on 101 samples\n",
      "Epoch 1/10\n",
      "303/303 [==============================] - 63s 209ms/step - loss: 188.9371 - mean_absolute_error: 10.3413 - val_loss: 57.3643 - val_mean_absolute_error: 5.2454\n",
      "Epoch 2/10\n",
      "303/303 [==============================] - 64s 210ms/step - loss: 26.3472 - mean_absolute_error: 3.4358 - val_loss: 33.0729 - val_mean_absolute_error: 3.6950\n",
      "Epoch 3/10\n",
      "303/303 [==============================] - 64s 211ms/step - loss: 19.5209 - mean_absolute_error: 2.8901 - val_loss: 25.1221 - val_mean_absolute_error: 3.2349\n",
      "Epoch 4/10\n",
      "303/303 [==============================] - 64s 210ms/step - loss: 16.3808 - mean_absolute_error: 2.5899 - val_loss: 20.2470 - val_mean_absolute_error: 2.9491\n",
      "Epoch 5/10\n",
      "303/303 [==============================] - 64s 210ms/step - loss: 14.1413 - mean_absolute_error: 2.5046 - val_loss: 19.7651 - val_mean_absolute_error: 2.8184\n",
      "Epoch 6/10\n",
      "303/303 [==============================] - 64s 210ms/step - loss: 13.5274 - mean_absolute_error: 2.4677 - val_loss: 17.9753 - val_mean_absolute_error: 2.8972\n",
      "Epoch 7/10\n",
      "303/303 [==============================] - 64s 210ms/step - loss: 12.1898 - mean_absolute_error: 2.3496 - val_loss: 16.8969 - val_mean_absolute_error: 2.7476\n",
      "Epoch 8/10\n",
      "303/303 [==============================] - 64s 211ms/step - loss: 11.9291 - mean_absolute_error: 2.2618 - val_loss: 17.5220 - val_mean_absolute_error: 2.8191\n",
      "Epoch 9/10\n",
      "303/303 [==============================] - 64s 212ms/step - loss: 11.5587 - mean_absolute_error: 2.2520 - val_loss: 18.4112 - val_mean_absolute_error: 2.9399\n",
      "Epoch 10/10\n",
      "303/303 [==============================] - 66s 217ms/step - loss: 11.2353 - mean_absolute_error: 2.2615 - val_loss: 16.6298 - val_mean_absolute_error: 2.6910\n"
     ]
    }
   ],
   "source": [
    "import numpy as np\n",
    "\n",
    "k = 4\n",
    "num_val_samples = len(train_data) // k\n",
    "num_epochs = 10\n",
    "all_scores = []\n",
    "all_mae_histories = []\n",
    "\n",
    "for i in range(k):\n",
    "    print(\"k-fold validation #\", i + 1)\n",
    "    val_data = train_data[i * num_val_samples:(i + 1) * num_val_samples]\n",
    "    val_targets = train_targets[i * num_val_samples:(i + 1) * num_val_samples]\n",
    "\n",
    "    left_train_data = train_data[0:i * num_val_samples]\n",
    "    right_train_data = train_data[(i + 1) * num_val_samples:]\n",
    "    partial_train_data = np.concatenate([left_train_data, right_train_data], axis = 0)\n",
    "    \n",
    "    left_train_targets = train_targets[0:i * num_val_samples]\n",
    "    right_train_targets = train_targets[(i + 1) * num_val_samples:]\n",
    "    partial_train_targets = np.concatenate([left_train_targets, right_train_targets], axis = 0)\n",
    "    \n",
    "    assert len(partial_train_data) == 303\n",
    "    assert len(val_data) == 101\n",
    "    \n",
    "    model = build_model()\n",
    "    \n",
    "    history = model.fit(\n",
    "        partial_train_data, partial_train_targets,\n",
    "        epochs = num_epochs,\n",
    "        batch_size = 1,\n",
    "        #verbose = 0,\n",
    "        validation_data=(val_data, val_targets)\n",
    "    )\n",
    "    \n",
    "    all_mae_histories.append(history)"
   ]
  },
  {
   "cell_type": "code",
   "execution_count": 49,
   "metadata": {},
   "outputs": [
    {
     "name": "stdout",
     "output_type": "stream",
     "text": [
      "[4.452557821416914, 3.276942410423319, 2.985078004290267, 2.7767231015506946, 2.7091559770673808, 2.7489363433848517, 2.624492595064463, 2.734001404135534, 2.6955782291986568, 2.6265184192521738]\n"
     ]
    }
   ],
   "source": [
    "average_mae_history = [np.mean(\n",
    "    [x.history[\"val_mean_absolute_error\"][i] for x in all_mae_histories]\n",
    ") for i in range(num_epochs)]\n",
    "print(average_mae_history)"
   ]
  }
 ],
 "metadata": {
  "kernelspec": {
   "display_name": "Python 3",
   "language": "python",
   "name": "python3"
  },
  "language_info": {
   "codemirror_mode": {
    "name": "ipython",
    "version": 3
   },
   "file_extension": ".py",
   "mimetype": "text/x-python",
   "name": "python",
   "nbconvert_exporter": "python",
   "pygments_lexer": "ipython3",
   "version": "3.6.4"
  }
 },
 "nbformat": 4,
 "nbformat_minor": 2
}
